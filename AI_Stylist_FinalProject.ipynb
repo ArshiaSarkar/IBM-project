{
  "cells": [
    {
      "cell_type": "markdown",
      "metadata": {
        "id": "view-in-github",
        "colab_type": "text"
      },
      "source": [
        "<a href=\"https://colab.research.google.com/github/ArshiaSarkar/IBM-project/blob/main/AI_Stylist_FinalProject.ipynb\" target=\"_parent\"><img src=\"https://colab.research.google.com/assets/colab-badge.svg\" alt=\"Open In Colab\"/></a>"
      ]
    },
    {
      "cell_type": "code",
      "execution_count": null,
      "metadata": {
        "colab": {
          "base_uri": "https://localhost:8080/",
          "height": 17
        },
        "id": "3KJFkTj0Vsot",
        "outputId": "d48ca85d-34da-4eed-cbf7-8b8b5dd5f45a"
      },
      "outputs": [
        {
          "data": {
            "application/javascript": [
              "(async () => {\n",
              "        const response = await google.colab.kernel.invokeFunction('notebook.getMetadata', [], {});\n",
              "        if(response.data && response.data['application/json']){\n",
              "            const notebookPath = response.data['application/json'].path;\n",
              "            console.log('Notebook path:', notebookPath);\n",
              "            alert('Notebook path: ' + notebookPath);\n",
              "        }\n",
              "    })()"
            ],
            "text/plain": [
              "<IPython.core.display.Javascript object>"
            ]
          },
          "metadata": {},
          "output_type": "display_data"
        }
      ],
      "source": [
        "import json\n",
        "import os\n",
        "from IPython.display import Javascript, display\n",
        "\n",
        "def get_notebook_path():\n",
        "    display(Javascript('''(async () => {\n",
        "        const response = await google.colab.kernel.invokeFunction('notebook.getMetadata', [], {});\n",
        "        if(response.data && response.data['application/json']){\n",
        "            const notebookPath = response.data['application/json'].path;\n",
        "            console.log('Notebook path:', notebookPath);\n",
        "            alert('Notebook path: ' + notebookPath);\n",
        "        }\n",
        "    })()'''))\n",
        "\n",
        "get_notebook_path()\n"
      ]
    },
    {
      "cell_type": "code",
      "execution_count": null,
      "metadata": {
        "colab": {
          "base_uri": "https://localhost:8080/"
        },
        "id": "elHPJAPKXS8m",
        "outputId": "86a817c5-d3ae-4fdf-ffb3-d4a20c1bde53"
      },
      "outputs": [
        {
          "name": "stdout",
          "output_type": "stream",
          "text": [
            " 1.xlsx\n",
            "'2026 Batch Placement Registration Eligible1 (1) (1).xlsx'\n",
            " 28d50a9a-deaf-4971-98e2-7f5d684ff23b.jpeg\n",
            " 2.xlsx\n",
            " 3.xlsx\n",
            " 4662a8ab-675e-496f-aadc-eb151658bbee.jpeg\n",
            "'Arshia Sarkar(22BCE3833)Video Resume.mov'\n",
            "\"Arshia's Resume2.pdf\"\n",
            "\"Arshia's Resume.pdf\"\n",
            "'Colab Notebooks'\n",
            "'Google AI Studio'\n",
            " IMG_4274.png\n",
            " IMG_4293.jpeg\n",
            " Mail.docx\n",
            "'Not completed psychometric list.xlsx'\n",
            "'Placement registration eiligible 2.xlsx'\n",
            "'Untitled document.gdoc'\n"
          ]
        }
      ],
      "source": [
        "!ls \"/content/drive/MyDrive/\"\n"
      ]
    },
    {
      "cell_type": "code",
      "execution_count": null,
      "metadata": {
        "colab": {
          "base_uri": "https://localhost:8080/"
        },
        "id": "HBW86obnXkOT",
        "outputId": "62b7f2ac-9158-4d33-a545-3138b65288ae"
      },
      "outputs": [
        {
          "name": "stdout",
          "output_type": "stream",
          "text": [
            "AI Stylist.ipynb\n",
            "Arshia.ipynb\n"
          ]
        }
      ],
      "source": [
        "!ls \"/content/drive/MyDrive/Colab Notebooks\" | grep .ipynb\n"
      ]
    },
    {
      "cell_type": "code",
      "execution_count": null,
      "metadata": {
        "colab": {
          "base_uri": "https://localhost:8080/"
        },
        "id": "1qJVUWIjWLgh",
        "outputId": "5660ad5e-767d-4f01-fa3f-0255928fee2f"
      },
      "outputs": [
        {
          "name": "stdout",
          "output_type": "stream",
          "text": [
            "Removing 'widgets' metadata...\n",
            "✅ Cleaned notebook saved to /content/drive/MyDrive/Colab Notebooks/AI Stylist_cleaned.ipynb\n"
          ]
        }
      ],
      "source": [
        "import nbformat\n",
        "\n",
        "def clean_notebook_metadata(input_path, output_path):\n",
        "    with open(input_path, 'r', encoding='utf-8') as f:\n",
        "        nb = nbformat.read(f, as_version=4)\n",
        "\n",
        "    if 'widgets' in nb['metadata']:\n",
        "        print(\"Removing 'widgets' metadata...\")\n",
        "        del nb['metadata']['widgets']\n",
        "    else:\n",
        "        print(\"No widget metadata found.\")\n",
        "\n",
        "    with open(output_path, 'w', encoding='utf-8') as f:\n",
        "        nbformat.write(nb, f)\n",
        "\n",
        "    print(f\"✅ Cleaned notebook saved to {output_path}\")\n",
        "\n",
        "input_path = \"/content/drive/MyDrive/Colab Notebooks/AI Stylist.ipynb\"\n",
        "output_path = \"/content/drive/MyDrive/Colab Notebooks/AI Stylist_cleaned.ipynb\"\n",
        "\n",
        "clean_notebook_metadata(input_path, output_path)\n"
      ]
    },
    {
      "cell_type": "code",
      "execution_count": null,
      "metadata": {
        "colab": {
          "base_uri": "https://localhost:8080/",
          "height": 1000,
          "referenced_widgets": [
            "63398507571b4c91872b9cdee5da8fb8",
            "a4c364c02cfa4667a1deade58acc673b",
            "a601d4a8366c4d2e94b66ad0dc26b026",
            "8a7a66abd1224928bbcbb291a7953277",
            "9bb575d5942d4b5c883c6fba9832fa35",
            "c9df26ff8dc14137bee46529fd9a61a9",
            "6cf267feb08e4446b21df1330dbebfe0",
            "37ff774c63a64704a7e081d8320804b3",
            "17915f2f02654875b58857ce15706337",
            "f6568d4a41a14530b1c432e9f4775325",
            "61309a2d42e14740b1672fd473b68484",
            "9363bfc0d56648aaa22af5b80c782398",
            "974a3e361fa54337813eff6efc5d8364",
            "7906e0063fa54ebdb38b90441b646a61",
            "44804c0b7dec4e1996988636f780baaa",
            "c01fc030008248ac9da6eaed6c289ae5",
            "303f23d7363044a2a8ced484bb3f0601",
            "67938546a7854452a64dcb9b5e5caf63",
            "6861a6fbc15e464aaf9dd386fa2775cd",
            "42566440e6d4455c8ace88f8140755b7",
            "25f56156c7de4a4b94ffd8c1b6999c0f",
            "47167b6fd50f4837adbaef81033390c1",
            "283a0ec692944797a5b1456f65a5c474",
            "92c00d6374af46bdbd45822bca34b2d8",
            "ed6dd0c9553043cf9888455ed302684a",
            "a035e7ee848d4573ab05ffe5df4d6829",
            "9f6525aca0094ed88d25b011a27c9708",
            "6e5225578c7c4a44bda8d321a5cdd978",
            "7776688bac4c452e9adc9ce9339396ce",
            "288d2ec78153411c8bc073da13df328f",
            "06aa0871a62747ad8d99bbe8919ddf70",
            "95ecfdfb8b304952a9baefbdd04eb38d",
            "562b24af00c745a5acb3288bde5cde4b",
            "e3490cb50a82492988a81bb5da09e63b",
            "1653636470ad4bd38c05159ccb5080f1",
            "b8e5ff05fbb4496a9c610d3db864e04f",
            "c95e138a3e3441729d3822737c9d28cd",
            "0a64a1235b2f4e539dcaa13030b21c75",
            "40163c392f5a47269c1e7fb13758a4f7",
            "00c3fbf613014161b3f6761ad6a93d02",
            "a8ed098340714c178f3fd0ebb38c0301",
            "f097f57fc23e460ba8d225125df23392",
            "1a87a815fbf54c718a242e05dd591b34",
            "7d9f472421b0440a9f9ac650c157ef2f",
            "d83a1b11377d41668fb887e400849ed8",
            "a284070e698146f5b2da73933bcb82e7",
            "51fdc926d2ac4a958715938c9df0beda",
            "a47365b6ebcb435ba03d95ea2b463eaa",
            "b50d60ae1ed64daca482dafba0cd64b4",
            "20fa629a1ddb4828a786179d5bc07363",
            "a81348a1e08e4fa6b446d2ee6b194a57",
            "2a54124e4b024ce1af5b4894fcf2a238",
            "95c04f1b3f2f40d19a03e4ca1f942968",
            "6c567e5b0e2e4db09f456d494de32999",
            "f3c786626ec1470091b6c58e1214c487",
            "7181de7bb8544f2196ff0113c0dc4fbc",
            "8af9824d54664825840d8681de498f16",
            "021141674bf04974a81de1aa8e91b4c7",
            "5021407f2a004823b37564d75fc2cc0a",
            "c72aaed862f747638730afb6e5a55c8e",
            "11399dd7257c49b8be661baf0de82f16",
            "ad689a6daebe41c791b62c272fd7c3ec",
            "3a977595cc134aeebee3071d8213879b",
            "344ead0b263a4f7ebcb29ab8ad557b7e",
            "25cf5378ffad4791963b134f79a21ba3",
            "49f06cc307f042178d4716135a191d39",
            "b616bd426fe141f999b32cc26922cc17",
            "717796bbdea041c485c1875f3134ac1b",
            "951ae7f0bd7e4c6db628a97e7da33449",
            "eac7b280c1b440479007d21011024f3d",
            "b9585951056b4d50a17d44275b60e2fe",
            "2eed7fdd57b6481bac52e2f3459f8385",
            "cc36592794f245cd8c81b5cd878b9020",
            "f95484a79cfb4de7a53ed4a08e9d174d",
            "0a1088fe12594a2292cbd93d9841eec0",
            "b12e977d7b264558a627bb2804b71cb8",
            "0401f862ed7f47f7bbd7ecfb340929f4",
            "2fa91ffc9f604990ae128498055f3c8c",
            "93e7b8b22f8146ababe9a943eaede5ec",
            "af9d54f2891542209aa69923ed24cdd6",
            "fc7b20f3f5a649aeaeaf03059ead8f43",
            "9e257a54205f455b8bee48239740066f",
            "5ab3b4a080d04c2c9878d000431d16a2",
            "5d11274f31074361a240c69be2448cae",
            "ea960144cc3540de908a5e6adeb748a2",
            "264646f217f7413c86481821fab761de",
            "822365abb4ac4e16bd2195642d006772",
            "6c7f7d84af67443e8d23f26d3f52e160",
            "fa42100322e948e8a50f90dd9388fdfe",
            "e723c34a416f403f8bed8867dc89358a",
            "2dc389fe42b941118abdb3b79593eceb",
            "822f70ab3e5f4e4e8da592f4e8f5af10",
            "7efa4b587aea42d4ae50e6d43499e923",
            "6bfb9b77c6d241bea8ccb91b4a8258e2",
            "b858b4e7f6d749de9d20a6d1d884ac58",
            "327ef735dbcf4ae39285f369313202ec",
            "5f545ad665e54220977946a0c24c0f8f",
            "d021b1710a7344c5baf61fc741d33db1",
            "91886f73bc394942a30338429d1c46e0",
            "3d797346d7d9430bb8e8d4f568fcbf9d",
            "85b8f4e9be8b40bcb52b277acf76aedf",
            "a0d22000dd7f4cf08db6895087ff8dd4",
            "f17456e46fed450898c3f3a5fdbc3c72",
            "165d23b7b37c4d1b940188fb40064872",
            "55507cfde67c4c2fadbea6b2b6d1719a",
            "bf98c39cbbf94d9d83644e704fd8dd36",
            "134b60bb280241dd9705e9e13d79641c",
            "92b8897c0f0e4aeca2e8667606ab9fec",
            "ad3ee4067472445ca575071b7ee7545b",
            "72af84eb5d504ffd873c5e709f681971",
            "4ea78457f913421baf7a551ca8d0c935",
            "41c63200114d4e849aa28b705846212b",
            "4d9857745b9e4811b0e8e7c232658614",
            "9c7d8dc054db40bb866eabe818fa43d6",
            "511340a019964df0aaa73af30ce9bfcd",
            "f6c70bb55d28436f9e1ca5bbf671b71c",
            "d52164c172a74cd1a3b47c36af86f991",
            "9893eafb1fe04c8e9c5188e3e4ff0ac9",
            "510e993364504a44ac12e00211282d31",
            "d39d602cb06d462f8d99a0a7d9e9a835",
            "44ea49d2b84146a6af53b05d7e4317fe",
            "e31950ac0dd54446b992639934ce1f71",
            "f27710adef1d4719a92782c0b8178643",
            "aafa98bb87034e809c52f6c4e5faaf57",
            "e1fb5ccb28ea4b9fbe2c4828950f779a",
            "c4c02d205f6e4ceb9162f6997ed85038",
            "a806f2f772264daaac96f11a8f915f01",
            "afad50090e3241219a638cf08073473b",
            "07114faf5d3a4bd083b587d278ca98cf",
            "efc4bb8686104ad2bf63c32060dd42cc",
            "cb6caa4d5a98473cabcbf0dceb7f6365",
            "476787f7e15b4cdc873b1d85579baf46",
            "27221b665e4f49c491da1f88d089fc8e",
            "309ac1365afa42e08c321b737f65f25c",
            "35c61e1c994c49e38ddf12004a1510ee",
            "8c53c6a643ba4ae7be83422869b5b3bd",
            "8fd8cd033c6e4468b2ce55af957580c4",
            "1287c1694bb24d829af620837332fdd7",
            "7a1d3d8902e44a8c8b46e9717abc5d46",
            "1f92b296b0704622b47ae31b3ab178ec",
            "ce22c8bdf4164bd39b4dcfdf2a778009",
            "9e47a41dfbe6424e9bea352a7d689b47",
            "179b4b8b67594646a5a97f3da72f7120",
            "85a89bb02445458e90a0feaaae6fde87",
            "04b245512ce74ca1a4300be836738b31",
            "4ecc24a00d1244ae8c138fbd9370eca7",
            "03d7162b9ad84aa0bdaee0e0c3ecace2",
            "55da5b777b9749cca74168fbbb53bdd5",
            "61e98ad743ce4d12b3ff928c36da555e",
            "7f206d78cd914e90b7b6b9a8945487f4",
            "7f40c159d5ed484da02b97365c74abe6",
            "019de711c1c64ddebccb65c4efee676c",
            "2314c41394434a88aa6eda978ce54ecf",
            "ae8f4eafc4274d8e910135450126afd7",
            "aade6bcff937446ab2fa20f87c1f4b77",
            "3fd6e0e96766468fa65a8ebeb354f6b8",
            "786b2bfda4024208856656a40378cfea",
            "f0249dfb3b074d53803d81277ea254c3",
            "2af5916db72b4085942e223519e677f4",
            "0245700eaa504ebda9b9d7f27d591ac9",
            "3630b1734da2472fb1bcce394bde1177",
            "0b52a3273e12491ebc133937e0d5cc4f",
            "437d23c401e14eb694997475af6bbb6a",
            "3409c6f2441749e4b14bd034182c114d",
            "9190ba4ba5bc478c80bf5f6bceaea0d8",
            "3448ed7b7b7c4c4ba82ade714233e1ab",
            "1ff23766f6a543aaa95badb74e45abf5",
            "2a56b8583aa241168a8163c90fb50e58",
            "a0e6fac3977e48c782ef83d4410bc3f5",
            "a2cf9b57f5c84442a0d28af7e9b7c6f6",
            "7be9ad37012d4765a0bf63b456a5ab88",
            "59233d84089341408edfcb4439215546",
            "78c3828465c54174aa11a19d4043fe11",
            "711cad34e6f049acaad27f8fe9aeab21",
            "a7d0f7bf45f94f75946025467a71db39",
            "887c1c123e9b4847887dc05a4775021f",
            "c0a33473434149a692d140f5afd26747",
            "d9cbd4c12af14c26b53043dc8b733143",
            "35bf586d048645818c6723087c67c5e1",
            "367e9998a7ad48ecac31a4d2e4dcd732",
            "1a1313e707084d9e934df610059d9215",
            "b5bb93a283d44b83be1c153a7d08d497",
            "30c2286e95054de6a7dc63e20a86883c",
            "3455a50918ad41b3a427f4ff47b3360d",
            "cb209c6ccd734d8da7f4f087fda1404b",
            "810d26a974b04dc9a03a7d6024f69eb5",
            "5769cb51b70749cca8639b646c5297b6"
          ]
        },
        "id": "U6b9p6DRGOb_",
        "outputId": "c22b2307-0534-4dad-d5b8-508e5e229c97"
      },
      "outputs": [
        {
          "name": "stdout",
          "output_type": "stream",
          "text": [
            "  Preparing metadata (setup.py) ... \u001b[?25l\u001b[?25hdone\n",
            "  Building wheel for segment_anything (setup.py) ... \u001b[?25l\u001b[?25hdone\n",
            "  Installing build dependencies ... \u001b[?25l\u001b[?25hdone\n",
            "  Getting requirements to build wheel ... \u001b[?25l\u001b[?25hdone\n",
            "  Preparing metadata (pyproject.toml) ... \u001b[?25l\u001b[?25hdone\n",
            "  Building wheel for diffusers (pyproject.toml) ... \u001b[?25l\u001b[?25hdone\n",
            "\u001b[2K   \u001b[90m━━━━━━━━━━━━━━━━━━━━━━━━━━━━━━━━━━━━━━━━\u001b[0m \u001b[32m363.4/363.4 MB\u001b[0m \u001b[31m4.1 MB/s\u001b[0m eta \u001b[36m0:00:00\u001b[0m\n",
            "\u001b[2K   \u001b[90m━━━━━━━━━━━━━━━━━━━━━━━━━━━━━━━━━━━━━━━━\u001b[0m \u001b[32m13.8/13.8 MB\u001b[0m \u001b[31m112.5 MB/s\u001b[0m eta \u001b[36m0:00:00\u001b[0m\n",
            "\u001b[2K   \u001b[90m━━━━━━━━━━━━━━━━━━━━━━━━━━━━━━━━━━━━━━━━\u001b[0m \u001b[32m24.6/24.6 MB\u001b[0m \u001b[31m95.8 MB/s\u001b[0m eta \u001b[36m0:00:00\u001b[0m\n",
            "\u001b[2K   \u001b[90m━━━━━━━━━━━━━━━━━━━━━━━━━━━━━━━━━━━━━━━━\u001b[0m \u001b[32m883.7/883.7 kB\u001b[0m \u001b[31m59.1 MB/s\u001b[0m eta \u001b[36m0:00:00\u001b[0m\n",
            "\u001b[2K   \u001b[90m━━━━━━━━━━━━━━━━━━━━━━━━━━━━━━━━━━━━━━━━\u001b[0m \u001b[32m664.8/664.8 MB\u001b[0m \u001b[31m2.2 MB/s\u001b[0m eta \u001b[36m0:00:00\u001b[0m\n",
            "\u001b[2K   \u001b[90m━━━━━━━━━━━━━━━━━━━━━━━━━━━━━━━━━━━━━━━━\u001b[0m \u001b[32m211.5/211.5 MB\u001b[0m \u001b[31m5.7 MB/s\u001b[0m eta \u001b[36m0:00:00\u001b[0m\n",
            "\u001b[2K   \u001b[90m━━━━━━━━━━━━━━━━━━━━━━━━━━━━━━━━━━━━━━━━\u001b[0m \u001b[32m56.3/56.3 MB\u001b[0m \u001b[31m15.2 MB/s\u001b[0m eta \u001b[36m0:00:00\u001b[0m\n",
            "\u001b[2K   \u001b[90m━━━━━━━━━━━━━━━━━━━━━━━━━━━━━━━━━━━━━━━━\u001b[0m \u001b[32m127.9/127.9 MB\u001b[0m \u001b[31m8.2 MB/s\u001b[0m eta \u001b[36m0:00:00\u001b[0m\n",
            "\u001b[2K   \u001b[90m━━━━━━━━━━━━━━━━━━━━━━━━━━━━━━━━━━━━━━━━\u001b[0m \u001b[32m207.5/207.5 MB\u001b[0m \u001b[31m6.9 MB/s\u001b[0m eta \u001b[36m0:00:00\u001b[0m\n",
            "\u001b[2K   \u001b[90m━━━━━━━━━━━━━━━━━━━━━━━━━━━━━━━━━━━━━━━━\u001b[0m \u001b[32m21.1/21.1 MB\u001b[0m \u001b[31m90.3 MB/s\u001b[0m eta \u001b[36m0:00:00\u001b[0m\n",
            "\u001b[?25h"
          ]
        },
        {
          "name": "stderr",
          "output_type": "stream",
          "text": [
            "/usr/local/lib/python3.11/dist-packages/huggingface_hub/utils/_auth.py:94: UserWarning: \n",
            "The secret `HF_TOKEN` does not exist in your Colab secrets.\n",
            "To authenticate with the Hugging Face Hub, create a token in your settings tab (https://huggingface.co/settings/tokens), set it as secret in your Google Colab and restart your session.\n",
            "You will be able to reuse this secret in all of your notebooks.\n",
            "Please note that authentication is recommended but still optional to access public models or datasets.\n",
            "  warnings.warn(\n"
          ]
        },
        {
          "data": {
            "application/vnd.jupyter.widget-view+json": {
              "model_id": "63398507571b4c91872b9cdee5da8fb8",
              "version_major": 2,
              "version_minor": 0
            },
            "text/plain": [
              "model_index.json:   0%|          | 0.00/548 [00:00<?, ?B/s]"
            ]
          },
          "metadata": {},
          "output_type": "display_data"
        },
        {
          "data": {
            "application/vnd.jupyter.widget-view+json": {
              "model_id": "9363bfc0d56648aaa22af5b80c782398",
              "version_major": 2,
              "version_minor": 0
            },
            "text/plain": [
              "Fetching 16 files:   0%|          | 0/16 [00:00<?, ?it/s]"
            ]
          },
          "metadata": {},
          "output_type": "display_data"
        },
        {
          "data": {
            "application/vnd.jupyter.widget-view+json": {
              "model_id": "283a0ec692944797a5b1456f65a5c474",
              "version_major": 2,
              "version_minor": 0
            },
            "text/plain": [
              "config.json:   0%|          | 0.00/748 [00:00<?, ?B/s]"
            ]
          },
          "metadata": {},
          "output_type": "display_data"
        },
        {
          "data": {
            "application/vnd.jupyter.widget-view+json": {
              "model_id": "e3490cb50a82492988a81bb5da09e63b",
              "version_major": 2,
              "version_minor": 0
            },
            "text/plain": [
              "pytorch_model.bin:   0%|          | 0.00/1.22G [00:00<?, ?B/s]"
            ]
          },
          "metadata": {},
          "output_type": "display_data"
        },
        {
          "data": {
            "application/vnd.jupyter.widget-view+json": {
              "model_id": "d83a1b11377d41668fb887e400849ed8",
              "version_major": 2,
              "version_minor": 0
            },
            "text/plain": [
              "config.json:   0%|          | 0.00/4.78k [00:00<?, ?B/s]"
            ]
          },
          "metadata": {},
          "output_type": "display_data"
        },
        {
          "data": {
            "application/vnd.jupyter.widget-view+json": {
              "model_id": "7181de7bb8544f2196ff0113c0dc4fbc",
              "version_major": 2,
              "version_minor": 0
            },
            "text/plain": [
              "config.json:   0%|          | 0.00/617 [00:00<?, ?B/s]"
            ]
          },
          "metadata": {},
          "output_type": "display_data"
        },
        {
          "data": {
            "application/vnd.jupyter.widget-view+json": {
              "model_id": "b616bd426fe141f999b32cc26922cc17",
              "version_major": 2,
              "version_minor": 0
            },
            "text/plain": [
              "scheduler_config.json:   0%|          | 0.00/313 [00:00<?, ?B/s]"
            ]
          },
          "metadata": {},
          "output_type": "display_data"
        },
        {
          "data": {
            "application/vnd.jupyter.widget-view+json": {
              "model_id": "2fa91ffc9f604990ae128498055f3c8c",
              "version_major": 2,
              "version_minor": 0
            },
            "text/plain": [
              "merges.txt:   0%|          | 0.00/525k [00:00<?, ?B/s]"
            ]
          },
          "metadata": {},
          "output_type": "display_data"
        },
        {
          "data": {
            "application/vnd.jupyter.widget-view+json": {
              "model_id": "fa42100322e948e8a50f90dd9388fdfe",
              "version_major": 2,
              "version_minor": 0
            },
            "text/plain": [
              "pytorch_model.bin:   0%|          | 0.00/492M [00:00<?, ?B/s]"
            ]
          },
          "metadata": {},
          "output_type": "display_data"
        },
        {
          "data": {
            "application/vnd.jupyter.widget-view+json": {
              "model_id": "3d797346d7d9430bb8e8d4f568fcbf9d",
              "version_major": 2,
              "version_minor": 0
            },
            "text/plain": [
              "preprocessor_config.json:   0%|          | 0.00/342 [00:00<?, ?B/s]"
            ]
          },
          "metadata": {},
          "output_type": "display_data"
        },
        {
          "data": {
            "application/vnd.jupyter.widget-view+json": {
              "model_id": "4ea78457f913421baf7a551ca8d0c935",
              "version_major": 2,
              "version_minor": 0
            },
            "text/plain": [
              "diffusion_pytorch_model.bin:   0%|          | 0.00/3.44G [00:00<?, ?B/s]"
            ]
          },
          "metadata": {},
          "output_type": "display_data"
        },
        {
          "data": {
            "application/vnd.jupyter.widget-view+json": {
              "model_id": "e31950ac0dd54446b992639934ce1f71",
              "version_major": 2,
              "version_minor": 0
            },
            "text/plain": [
              "vocab.json:   0%|          | 0.00/1.06M [00:00<?, ?B/s]"
            ]
          },
          "metadata": {},
          "output_type": "display_data"
        },
        {
          "data": {
            "application/vnd.jupyter.widget-view+json": {
              "model_id": "27221b665e4f49c491da1f88d089fc8e",
              "version_major": 2,
              "version_minor": 0
            },
            "text/plain": [
              "special_tokens_map.json:   0%|          | 0.00/472 [00:00<?, ?B/s]"
            ]
          },
          "metadata": {},
          "output_type": "display_data"
        },
        {
          "data": {
            "application/vnd.jupyter.widget-view+json": {
              "model_id": "85a89bb02445458e90a0feaaae6fde87",
              "version_major": 2,
              "version_minor": 0
            },
            "text/plain": [
              "config.json:   0%|          | 0.00/552 [00:00<?, ?B/s]"
            ]
          },
          "metadata": {},
          "output_type": "display_data"
        },
        {
          "data": {
            "application/vnd.jupyter.widget-view+json": {
              "model_id": "aade6bcff937446ab2fa20f87c1f4b77",
              "version_major": 2,
              "version_minor": 0
            },
            "text/plain": [
              "tokenizer_config.json:   0%|          | 0.00/806 [00:00<?, ?B/s]"
            ]
          },
          "metadata": {},
          "output_type": "display_data"
        },
        {
          "data": {
            "application/vnd.jupyter.widget-view+json": {
              "model_id": "3448ed7b7b7c4c4ba82ade714233e1ab",
              "version_major": 2,
              "version_minor": 0
            },
            "text/plain": [
              "diffusion_pytorch_model.bin:   0%|          | 0.00/335M [00:00<?, ?B/s]"
            ]
          },
          "metadata": {},
          "output_type": "display_data"
        },
        {
          "data": {
            "application/vnd.jupyter.widget-view+json": {
              "model_id": "c0a33473434149a692d140f5afd26747",
              "version_major": 2,
              "version_minor": 0
            },
            "text/plain": [
              "Loading pipeline components...:   0%|          | 0/7 [00:00<?, ?it/s]"
            ]
          },
          "metadata": {},
          "output_type": "display_data"
        },
        {
          "name": "stderr",
          "output_type": "stream",
          "text": [
            "/usr/local/lib/python3.11/dist-packages/gradio/interface.py:416: UserWarning: The `allow_flagging` parameter in `Interface` is deprecated.Use `flagging_mode` instead.\n",
            "  warnings.warn(\n"
          ]
        },
        {
          "name": "stdout",
          "output_type": "stream",
          "text": [
            "Colab notebook detected. To show errors in colab notebook, set debug=True in launch()\n",
            "* Running on public URL: https://3171c7403f73d18924.gradio.live\n",
            "\n",
            "This share link expires in 1 week. For free permanent hosting and GPU upgrades, run `gradio deploy` from the terminal in the working directory to deploy to Hugging Face Spaces (https://huggingface.co/spaces)\n"
          ]
        },
        {
          "data": {
            "text/html": [
              "<div><iframe src=\"https://3171c7403f73d18924.gradio.live\" width=\"100%\" height=\"500\" allow=\"autoplay; camera; microphone; clipboard-read; clipboard-write;\" frameborder=\"0\" allowfullscreen></iframe></div>"
            ],
            "text/plain": [
              "<IPython.core.display.HTML object>"
            ]
          },
          "metadata": {},
          "output_type": "display_data"
        },
        {
          "data": {
            "text/plain": []
          },
          "execution_count": 1,
          "metadata": {},
          "output_type": "execute_result"
        }
      ],
      "source": [
        "!pip install -q opencv-python matplotlib pillow\n",
        "!pip install -q git+https://github.com/facebookresearch/segment-anything.git\n",
        "!pip install -q git+https://github.com/huggingface/diffusers.git\n",
        "!pip install -q transformers accelerate\n",
        "!pip install -q gradio\n",
        "!pip install -q scikit-image\n",
        "\n",
        "import gradio as gr\n",
        "import torch\n",
        "import numpy as np\n",
        "import cv2\n",
        "from PIL import Image\n",
        "from skimage.morphology import closing, square\n",
        "from segment_anything import sam_model_registry, SamPredictor\n",
        "from segment_anything.utils.amg import remove_small_regions\n",
        "from diffusers import StableDiffusionInpaintPipeline\n",
        "\n",
        "import os\n",
        "sam_checkpoint = \"sam_vit_b_01ec64.pth\"\n",
        "if not os.path.exists(sam_checkpoint):\n",
        "    !wget -q https://dl.fbaipublicfiles.com/segment_anything/sam_vit_b_01ec64.pth\n",
        "\n",
        "\n",
        "device = \"cuda\" if torch.cuda.is_available() else \"cpu\"\n",
        "\n",
        "\n",
        "model_type = \"vit_b\"\n",
        "sam = sam_model_registry[model_type](checkpoint=sam_checkpoint).to(device)\n",
        "predictor = SamPredictor(sam)\n",
        "\n",
        "pipe = StableDiffusionInpaintPipeline.from_pretrained(\n",
        "    \"runwayml/stable-diffusion-inpainting\",\n",
        "    torch_dtype=torch.float16 if device==\"cuda\" else torch.float32,\n",
        "    use_safetensors=False,\n",
        ").to(device)\n",
        "\n",
        "def resize_image(image, max_size=512):\n",
        "    w, h = image.size\n",
        "    if max(w, h) > max_size:\n",
        "        scale = max_size / max(w, h)\n",
        "        new_w, new_h = int(w * scale), int(h * scale)\n",
        "        image = image.resize((new_w, new_h), Image.LANCZOS)\n",
        "    return image\n",
        "\n",
        "def smooth_mask(mask):\n",
        "    closed = closing(mask, square(7))\n",
        "    return closed\n",
        "\n",
        "def get_best_mask(masks):\n",
        "    areas = [m.sum() for m in masks]\n",
        "    max_idx = np.argmax(areas)\n",
        "    return masks[max_idx]\n",
        "\n",
        "def validate_occasion(occasion):\n",
        "    allowed = [\"wedding\", \"office party\", \"casual outing\", \"formal event\", \"cocktail\", \"birthday party\", \"business meeting\", \"date night\", \"vacation\", \"festival\"]\n",
        "    occ = occasion.lower().strip()\n",
        "    if occ not in allowed:\n",
        "        return None, f\"Invalid occasion! Allowed: {', '.join(allowed)}\"\n",
        "    return occ, None\n",
        "\n",
        "def ai_stylist(image, occasion):\n",
        "    occasion_clean, err = validate_occasion(occasion)\n",
        "    if err:\n",
        "        return None, err\n",
        "\n",
        "    image = resize_image(image, max_size=512)\n",
        "\n",
        "    image_bgr = cv2.cvtColor(np.array(image), cv2.COLOR_RGB2BGR)\n",
        "    predictor.set_image(image_bgr)\n",
        "\n",
        "    h, w = image.size[1], image.size[0]\n",
        "    input_box = np.array([[10, 10, w - 10, h - 10]])\n",
        "\n",
        "    masks, _, _ = predictor.predict(box=input_box, multimask_output=True)\n",
        "\n",
        "    best_mask = get_best_mask(masks)\n",
        "\n",
        "    clean_mask, _ = remove_small_regions(best_mask, area_thresh=1024, mode=\"islands\")\n",
        "    smooth = smooth_mask(clean_mask.astype(bool))\n",
        "\n",
        "    mask_array = smooth.astype(bool)\n",
        "\n",
        "    np_image = np.array(image)\n",
        "    if np.mean(np_image[mask_array]) > np.mean(np_image[~mask_array]):\n",
        "        mask_array = ~mask_array\n",
        "\n",
        "\n",
        "    mask_image = Image.fromarray((mask_array * 255).astype(np.uint8)).convert(\"RGB\")\n",
        "\n",
        "    # Compose more detailed prompt for inpainting\n",
        "    prompt = (\n",
        "        f\"Fashionable, realistic, high-quality full-body outfit for a {occasion_clean}. \"\n",
        "        \"Include stylish shirt, pants or skirt, and shoes. \"\n",
        "        \"Modern, trendy, well-fitted clothing with vibrant colors and clean background.\"\n",
        "    )\n",
        "    negative_prompt = (\n",
        "        \"blurry, low-resolution, distorted anatomy, cropped, extra limbs, \"\n",
        "        \"bad outfit, messy, poorly dressed, out of frame\"\n",
        "    )\n",
        "\n",
        "    # Run Stable Diffusion inpainting with error handling\n",
        "    try:\n",
        "        result = pipe(\n",
        "            prompt=prompt,\n",
        "            negative_prompt=negative_prompt,\n",
        "            image=image,\n",
        "            mask_image=mask_image,\n",
        "            guidance_scale=8.0,\n",
        "            num_inference_steps=60,\n",
        "        ).images[0]\n",
        "    except Exception as e:\n",
        "        return None, f\"Inpainting error: {e}\"\n",
        "\n",
        "    return result, None\n",
        "\n",
        "# Gradio UI\n",
        "iface = gr.Interface(\n",
        "    fn=ai_stylist,\n",
        "    inputs=[\n",
        "        gr.Image(type=\"pil\", label=\"Upload Your Full-Body Photo\"),\n",
        "        gr.Textbox(lines=1, placeholder=\"Enter occasion (e.g. wedding, office party)\", label=\"Occasion\"),\n",
        "    ],\n",
        "    outputs=[\n",
        "        gr.Image(type=\"pil\", label=\"Styled Outfit\"),\n",
        "        gr.Textbox(label=\"Status\", interactive=False)\n",
        "    ],\n",
        "    title=\"Smart AI Stylist: Dress Up for Your Occasion\",\n",
        "    description=\"Upload your photo, enter a valid occasion, and get a styled outfit tailored for you!\",\n",
        "    allow_flagging=\"never\",\n",
        "    live=False\n",
        ")\n",
        "\n",
        "iface.launch(share=True)"
      ]
    }
  ],
  "metadata": {
    "accelerator": "GPU",
    "colab": {
      "gpuType": "T4",
      "provenance": [],
      "authorship_tag": "ABX9TyMT+3kqixHVAP4WNOazlbCP",
      "include_colab_link": true
    },
    "kernelspec": {
      "display_name": "Python 3",
      "name": "python3"
    },
    "language_info": {
      "name": "python"
    }
  },
  "nbformat": 4,
  "nbformat_minor": 0
}