{
  "nbformat": 4,
  "nbformat_minor": 0,
  "metadata": {
    "colab": {
      "provenance": [],
      "authorship_tag": "ABX9TyPQDwP6tCGKea4JCJAprGCK",
      "include_colab_link": true
    },
    "kernelspec": {
      "name": "python3",
      "display_name": "Python 3"
    },
    "language_info": {
      "name": "python"
    }
  },
  "cells": [
    {
      "cell_type": "markdown",
      "metadata": {
        "id": "view-in-github",
        "colab_type": "text"
      },
      "source": [
        "<a href=\"https://colab.research.google.com/github/ArshiaSarkar/IBM-project/blob/main/FinalPjt-2_Mental_Health_Diagnostic.ipynb\" target=\"_parent\"><img src=\"https://colab.research.google.com/assets/colab-badge.svg\" alt=\"Open In Colab\"/></a>"
      ]
    },
    {
      "cell_type": "code",
      "source": [
        "import pandas as pd\n",
        "import gradio as gr\n",
        "\n",
        "survey_questions = [\n",
        "    \"How often do you feel sad or depressed? (Never, Rarely, Sometimes, Often, Always)\",\n",
        "    \"Do you experience anxiety or nervousness? (Yes/No)\",\n",
        "    \"How is your sleep quality? (Good, Fair, Poor)\",\n",
        "    \"Do you have changes in appetite? (Yes/No)\",\n",
        "    \"Do you feel hopeless or worthless? (Yes/No)\",\n",
        "    \"Have you had thoughts of self-harm or suicide? (Yes/No)\",\n",
        "    \"How would you rate your energy levels? (High, Moderate, Low)\",\n",
        "    \"Do you find it hard to concentrate? (Yes/No)\",\n",
        "    \"How often do you feel tired or fatigued? (Never, Rarely, Sometimes, Often, Always)\",\n",
        "    \"Do you have difficulty relaxing? (Yes/No)\"\n",
        "]\n",
        "\n",
        "def analyze_survey(responses):\n",
        "    diagnosis = []\n",
        "    score = 0\n",
        "    frequency_map = {\"Never\": 0, \"Rarely\": 1, \"Sometimes\": 2, \"Often\": 3, \"Always\": 4}\n",
        "    sleep_map = {\"Good\": 0, \"Fair\": 1, \"Poor\": 2}\n",
        "    energy_map = {\"High\": 0, \"Moderate\": 1, \"Low\": 2}\n",
        "    yes_no_map = {\"Yes\": 1, \"No\": 0}\n",
        "\n",
        "    score += frequency_map.get(responses[0], 0)\n",
        "    score += yes_no_map.get(responses[1], 0)\n",
        "    score += sleep_map.get(responses[2], 0)\n",
        "    score += yes_no_map.get(responses[3], 0)\n",
        "    score += yes_no_map.get(responses[4], 0)\n",
        "    score += yes_no_map.get(responses[5], 0) * 3\n",
        "    score += energy_map.get(responses[6], 0)\n",
        "    score += yes_no_map.get(responses[7], 0)\n",
        "    score += frequency_map.get(responses[8], 0)\n",
        "    score += yes_no_map.get(responses[9], 0)\n",
        "\n",
        "    if score >= 10:\n",
        "        diagnosis.append(\"High likelihood of depression or anxiety. Please consult a mental health professional.\")\n",
        "    elif score >= 5:\n",
        "        diagnosis.append(\"Moderate symptoms detected. Consider monitoring your mental health and seeking support if needed.\")\n",
        "    else:\n",
        "        diagnosis.append(\"Low symptoms detected. Keep maintaining your mental well-being.\")\n",
        "\n",
        "    if yes_no_map.get(responses[5], 0) == 1:\n",
        "        diagnosis.append(\"Immediate help recommended due to self-harm or suicidal thoughts.\")\n",
        "\n",
        "    return \"\\n\".join(diagnosis)\n",
        "\n",
        "def survey_interface(*responses):\n",
        "    return analyze_survey(responses)\n",
        "\n",
        "with gr.Blocks() as demo:\n",
        "    gr.Markdown(\"## 🧠 Mental Health Diagnostic Survey\")\n",
        "\n",
        "    with gr.Row():\n",
        "        with gr.Column():\n",
        "            inputs = []\n",
        "            for question in survey_questions:\n",
        "                if \"(Never, Rarely, Sometimes, Often, Always)\" in question:\n",
        "                    inp = gr.Radio(choices=[\"Never\", \"Rarely\", \"Sometimes\", \"Often\", \"Always\"], label=question)\n",
        "                elif \"(Yes/No)\" in question:\n",
        "                    inp = gr.Radio(choices=[\"Yes\", \"No\"], label=question)\n",
        "                elif \"(Good, Fair, Poor)\" in question:\n",
        "                    inp = gr.Radio(choices=[\"Good\", \"Fair\", \"Poor\"], label=question)\n",
        "                elif \"(High, Moderate, Low)\" in question:\n",
        "                    inp = gr.Radio(choices=[\"High\", \"Moderate\", \"Low\"], label=question)\n",
        "                else:\n",
        "                    inp = gr.Textbox(label=question)\n",
        "                inputs.append(inp)\n",
        "\n",
        "            submit_btn = gr.Button(\"Get Diagnosis\")\n",
        "\n",
        "        with gr.Column():\n",
        "            diagnosis_output = gr.Textbox(label=\"Diagnosis\", lines=8, interactive=False)\n",
        "\n",
        "    submit_btn.click(survey_interface, inputs, diagnosis_output)\n",
        "\n",
        "demo.launch(share=True)\n"
      ],
      "metadata": {
        "colab": {
          "base_uri": "https://localhost:8080/",
          "height": 610
        },
        "id": "IYyQR1dn8tvz",
        "outputId": "8ac85bf0-3e44-4c61-b28c-eb75fbdb4dd9"
      },
      "execution_count": 7,
      "outputs": [
        {
          "output_type": "stream",
          "name": "stdout",
          "text": [
            "Colab notebook detected. To show errors in colab notebook, set debug=True in launch()\n",
            "* Running on public URL: https://7a23bc18faa38d7f05.gradio.live\n",
            "\n",
            "This share link expires in 1 week. For free permanent hosting and GPU upgrades, run `gradio deploy` from the terminal in the working directory to deploy to Hugging Face Spaces (https://huggingface.co/spaces)\n"
          ]
        },
        {
          "output_type": "display_data",
          "data": {
            "text/plain": [
              "<IPython.core.display.HTML object>"
            ],
            "text/html": [
              "<div><iframe src=\"https://7a23bc18faa38d7f05.gradio.live\" width=\"100%\" height=\"500\" allow=\"autoplay; camera; microphone; clipboard-read; clipboard-write;\" frameborder=\"0\" allowfullscreen></iframe></div>"
            ]
          },
          "metadata": {}
        },
        {
          "output_type": "execute_result",
          "data": {
            "text/plain": []
          },
          "metadata": {},
          "execution_count": 7
        }
      ]
    }
  ]
}